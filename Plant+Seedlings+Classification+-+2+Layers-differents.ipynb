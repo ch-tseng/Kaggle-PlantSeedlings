{
 "cells": [
  {
   "cell_type": "code",
   "execution_count": 158,
   "metadata": {},
   "outputs": [],
   "source": [
    "import cv2\n",
    "import os\n",
    "import glob\n",
    "import numpy as np\n",
    "from keras.utils import np_utils\n",
    "from sklearn.model_selection import train_test_split\n",
    "import matplotlib.pyplot as plt\n",
    "%matplotlib inline\n",
    "import matplotlib.image as mpimg\n",
    "from skimage import exposure\n",
    "from keras.utils import np_utils\n",
    "from skimage import feature\n",
    "import mahotas"
   ]
  },
  {
   "cell_type": "code",
   "execution_count": 159,
   "metadata": {
    "collapsed": true
   },
   "outputs": [],
   "source": [
    "dataAugment = False\n",
    "if(dataAugment): from keras.preprocessing.image import ImageDataGenerator\n",
    "    \n",
    "augRatio = 2  #Data augmentation時，要產生幾倍數量的dataset\n",
    "testimg = \"dataset/train/Small-flowered Cranesbill/1f14ed265.png\"\n",
    "ratioVal = 0.2  #要從train dataset取出多少比例的資料作為validate dataset\n",
    "reSize=(112,112)  #訓練前圖片要縮放的尺寸\n",
    "bins = (30, 30, 30)\n",
    "epochs = 50  #要跑幾個世代\n",
    "batch_size = 32   #每批次提取多少數量的圖片進行訓練\n",
    "trainDataset = \"dataset/train\"  #Train dataset的路徑\n",
    "testDataset = \"dataset/test\"   #Test dataset的路徑\n",
    "#Lable的對應, 每個Lable對應到一個數值\n",
    "dict_labels = {\"Black-grass\": 0,\"Charlock\": 1, \"Cleavers\": 2, \"Common Chickweed\": 3, \"Common wheat\": 4, \"Fat Hen\": 5,\n",
    "              \"Loose Silky-bent\": 6, \"Maize\": 7, \"Scentless Mayweed\": 8, \"Shepherds Purse\": 9, \"Small-flowered Cranesbill\": 10, \n",
    "              \"Sugar beet\": 11 }\n",
    "\n",
    "#存放dataset及Label使用\n",
    "orgimages = []\n",
    "orgimagenames = []\n",
    "images_1 = []\n",
    "images_2 = []\n",
    "labels = []\n",
    "labels_hot = []\n",
    "testImages_1 = []\n",
    "testImages_2 = []\n",
    "testImagesName = []"
   ]
  },
  {
   "cell_type": "code",
   "execution_count": 160,
   "metadata": {
    "collapsed": true
   },
   "outputs": [],
   "source": [
    "def show_train_history(train_history, train, validation):\n",
    "    plt.plot(train_history.history[train])\n",
    "    plt.plot(train_history.history[validation])\n",
    "    plt.title('Train history')\n",
    "    plt.ylabel(train)\n",
    "    plt.xlabel('Epoch')\n",
    "    legendLoc = 'lower right' if(train=='acc') else 'upper right'\n",
    "    plt.legend(['train', 'validation'], loc=legendLoc)\n",
    "    plt.show()"
   ]
  },
  {
   "cell_type": "code",
   "execution_count": 161,
   "metadata": {
    "collapsed": true
   },
   "outputs": [],
   "source": [
    "def load_image(folder):    \n",
    "    global images_1, images_2,labels, labels_hot, dict_labels, orgimages, orgimagenames, bins\n",
    "    \n",
    "    for filename in os.listdir(folder):\n",
    "        label = os.path.basename(folders)\n",
    "        className = np.asarray( label )        \n",
    "        if label is not None:\n",
    "            labels.append(className)\n",
    "            labels_hot.append(dict_labels[label])\n",
    "            #np.append(labels, className , axis=0)\n",
    "            #np.append(labels_hot, np.array(dict_labels[label]), axis=0)\n",
    "            \n",
    "        img = cv2.imread(os.path.join(folder,filename))\n",
    "        orgimages.append(np.array(img))\n",
    "        orgimagenames.append(filename)\n",
    "        if img is not None:            \n",
    "            img_extract1 = extractPlantsArea1(img)\n",
    "            img_extract2 = extractPlantsArea2(img)\n",
    "            \n",
    "            images_1.append(np.array(img_extract1))\n",
    "            images_2.append(np.array(img_extract2))            \n",
    "            "
   ]
  },
  {
   "cell_type": "code",
   "execution_count": 162,
   "metadata": {},
   "outputs": [],
   "source": [
    "def getMask(orgimg):\n",
    "    img = cv2.cvtColor(orgimg, cv2.COLOR_BGR2HSV)\n",
    "    lower_color = np.array([25, 40, 40]) \n",
    "    upper_color = np.array([100, 225, 225]) \n",
    "    plants = cv2.inRange(img, lower_color , upper_color)   \n",
    "    \n",
    "    clone = plants.copy()    \n",
    "    _, cnts, _ = cv2.findContours(clone,cv2.RETR_EXTERNAL ,cv2.CHAIN_APPROX_SIMPLE)          \n",
    "    mask = np.zeros(orgimg.shape[:2], dtype=\"uint8\")\n",
    "    \n",
    "    for c in cnts:\n",
    "        cv2.drawContours(mask, [c], -1, 255, -1)\n",
    "    \n",
    "    return mask\n",
    "\n",
    "def extractPlantsArea1(orgimg):\n",
    "    global reSize\n",
    "    orgimg = cv2.resize(orgimg,reSize,interpolation=cv2.INTER_CUBIC)\n",
    "    mask = getMask(orgimg)\n",
    "    image = cv2.bitwise_and(orgimg, orgimg, mask=mask)\n",
    "\n",
    "    #image_blur = cv2.bilateralFilter(image,3,255,255) \n",
    "    #img = cv2.addWeighted(image, 1.5, image_blur, -0.5, 0)\n",
    "    \n",
    "    return image\n",
    "\n",
    "def extractPlantsArea2(image):\n",
    "    mask = getMask(image)\n",
    "    image = cv2.bitwise_and(image, image, mask=mask)\n",
    "    (means, stds) = cv2.meanStdDev(cv2.cvtColor(image, cv2.COLOR_BGR2HSV))\n",
    "    colorStats = np.concatenate([means, stds]).flatten()\n",
    " \n",
    "    # extract Haralick texture features\n",
    "    gray = cv2.cvtColor(image, cv2.COLOR_BGR2GRAY)\n",
    "    haralick = mahotas.features.haralick(gray).mean(axis=0)\n",
    " \n",
    "    # return a concatenated feature vector of color statistics and Haralick\n",
    "    # texture features\n",
    "    return np.hstack([colorStats, haralick])\n",
    "\n",
    "def extractPlantsArea2_2(image):\n",
    "    mask = getMask(image)\n",
    "    image = cv2.bitwise_and(image, image, mask=mask)\n",
    "    gray = cv2.cvtColor(image, cv2.COLOR_BGR2GRAY)\n",
    "    lbp = feature.local_binary_pattern(gray, 24, 8, method=\"uniform\")\n",
    "    (hist, _) = np.histogram(lbp.ravel(), bins=range(0, 24 + 3),\n",
    "        range=(0, 24 + 2))\n",
    " \n",
    "    # normalize the histogram\n",
    "    eps=1e-7\n",
    "    hist = hist.astype(\"float\")\n",
    "    hist /= (hist.sum() + eps)\n",
    "    return hist\n",
    "\n",
    "def extractPlantsArea2_1(image, bins=(30, 30, 30)):\n",
    "    mask = getMask(image)\n",
    "    image = cv2.bitwise_and(image, image, mask=mask)\n",
    "    lab = cv2.cvtColor(image, cv2.COLOR_BGR2LAB)\n",
    "    hist = cv2.calcHist([lab], [0, 1, 2], mask, bins, [0, 256, 0, 256, 0, 256])\n",
    "    \n",
    "    hist = cv2.normalize(hist,hist).flatten()\n",
    "    \n",
    "    return hist"
   ]
  },
  {
   "cell_type": "code",
   "execution_count": 163,
   "metadata": {
    "scrolled": true
   },
   "outputs": [
    {
     "name": "stdout",
     "output_type": "stream",
     "text": [
      "Load images from Train dataset\n",
      "Load dataset/train/Common Chickweed ...\n",
      "Load dataset/train/Scentless Mayweed ...\n",
      "Load dataset/train/Maize ...\n",
      "Load dataset/train/Charlock ...\n",
      "Load dataset/train/Loose Silky-bent ...\n",
      "Load dataset/train/Common wheat ...\n",
      "Load dataset/train/Cleavers ...\n",
      "Load dataset/train/Sugar beet ...\n",
      "Load dataset/train/Small-flowered Cranesbill ...\n",
      "Load dataset/train/Fat Hen ...\n",
      "Load dataset/train/Shepherds Purse ...\n",
      "Load dataset/train/Black-grass ...\n",
      "Load images from Test dataset\n"
     ]
    }
   ],
   "source": [
    "print(\"Load images from Train dataset\")\n",
    "for folders in glob.glob(trainDataset+\"/*\"):\n",
    "    print(\"Load {} ...\".format(folders))\n",
    "    load_image(folders)\n",
    "    \n",
    "print(\"Load images from Test dataset\")    \n",
    "for filename in os.listdir(testDataset):\n",
    "    img = cv2.imread(testDataset+\"/\"+filename)\n",
    "    \n",
    "    if img is not None:\n",
    "        img_extract1 = extractPlantsArea1(img)\n",
    "        img_extract2 = extractPlantsArea2(img)\n",
    "\n",
    "        testImages_1.append(np.array(img_extract1))\n",
    "        testImages_2.append(np.array(img_extract2))\n",
    "        \n",
    "        testImagesName.append(filename)"
   ]
  },
  {
   "cell_type": "code",
   "execution_count": 164,
   "metadata": {},
   "outputs": [
    {
     "name": "stdout",
     "output_type": "stream",
     "text": [
      "images_1.shape=(4750, 112, 112, 3) , images_2.shape=(4750, 19), testImages_1.shape==(794, 112, 112, 3), testImages_2.shape=(794, 19)\n"
     ]
    }
   ],
   "source": [
    "images_1 = np.array(images_1) \n",
    "images_2 = np.array(images_2) \n",
    "labels_hot = np.array(labels_hot)\n",
    "testImages_1 = np.array(testImages_1) \n",
    "testImages_2 = np.array(testImages_2) \n",
    "print(\"images_1.shape={} , images_2.shape={}, testImages_1.shape=={}, testImages_2.shape={}\".format(images_1.shape, images_2.shape, testImages_1.shape, testImages_2.shape))\n"
   ]
  },
  {
   "cell_type": "code",
   "execution_count": 165,
   "metadata": {
    "scrolled": true
   },
   "outputs": [
    {
     "name": "stdout",
     "output_type": "stream",
     "text": [
      "File:a9e3465f8.png, Label:Common Chickweed , ID:3, shape:(99, 99, 3)\n"
     ]
    },
    {
     "data": {
      "image/png": "[encoded data removed]",
      "text/plain": [
       "<matplotlib.figure.Figure at 0x7faddd0d2710>"
      ]
     },
     "metadata": {},
     "output_type": "display_data"
    }
   ],
   "source": [
    "sampleID = 244\n",
    "#print(images[3])\n",
    "plt.imshow(orgimages[sampleID])\n",
    "print(\"File:{}, Label:{} , ID:{}, shape:{}\".format(orgimagenames[sampleID], labels[sampleID], labels_hot[sampleID], orgimages[sampleID].shape))"
   ]
  },
  {
   "cell_type": "code",
   "execution_count": 166,
   "metadata": {
    "scrolled": false
   },
   "outputs": [
    {
     "name": "stdout",
     "output_type": "stream",
     "text": [
      "Label:Common Chickweed , ID:3, shape:(112, 112, 3)\n"
     ]
    },
    {
     "data": {
      "image/png": "[encoded data removed]",
      "text/plain": [
       "<matplotlib.figure.Figure at 0x7faddd0d2cf8>"
      ]
     },
     "metadata": {},
     "output_type": "display_data"
    }
   ],
   "source": [
    "\n",
    "plt.imshow(images_1[sampleID])\n",
    "print(\"Label:{} , ID:{}, shape:{}\".format(labels[sampleID], labels_hot[sampleID], images_1[sampleID].shape))"
   ]
  },
  {
   "cell_type": "code",
   "execution_count": 167,
   "metadata": {
    "collapsed": true
   },
   "outputs": [],
   "source": [
    "if(dataAugment):\n",
    "    (trainData_1, valiData_1, trainLabels_1, valiLabels_1) = train_test_split(images, labels_hot, test_size=ratioVal, random_state=42)\n",
    "    (trainData_2, valiData_2, trainLabels_2, valiLabels_2) = train_test_split(images_2, labels_hot, test_size=ratioVal, random_state=42)"
   ]
  },
  {
   "cell_type": "code",
   "execution_count": 168,
   "metadata": {
    "collapsed": true
   },
   "outputs": [],
   "source": [
    "if(dataAugment):\n",
    "    print(\"trainData records: {}\".format(len(trainData_1)))\n",
    "    print(\"trainData.shape={} trainLabels.shape={}\".format(trainData_1.shape, trainLabels_1.shape))\n",
    "\n",
    "\n",
    "    print(\"valiData records: {}\".format(len(valiData_1)))\n",
    "    print(\"valiData.shape={} valiLabels.shape={}\".format(valiData_1.shape, valiLabels_1.shape))"
   ]
  },
  {
   "cell_type": "code",
   "execution_count": 169,
   "metadata": {},
   "outputs": [
    {
     "name": "stdout",
     "output_type": "stream",
     "text": [
      "Train dataset:  (4750, 12)\n"
     ]
    }
   ],
   "source": [
    "if(dataAugment):\n",
    "    trainLabels_hot = np_utils.to_categorical(labels_hot)\n",
    "    valiLabels_hot = np_utils.to_categorical(valiLabels)\n",
    "    print(\"Validate dataset:\", valiLabels_hot.shape)\n",
    "    \n",
    "else:\n",
    "    trainLabels_hot = np_utils.to_categorical(labels_hot)\n",
    "    print(\"Train dataset: \", trainLabels_hot.shape)"
   ]
  },
  {
   "cell_type": "code",
   "execution_count": 170,
   "metadata": {},
   "outputs": [
    {
     "name": "stdout",
     "output_type": "stream",
     "text": [
      "(4750, 19)\n"
     ]
    }
   ],
   "source": [
    "print(images_2.shape)"
   ]
  },
  {
   "cell_type": "code",
   "execution_count": 171,
   "metadata": {
    "collapsed": true
   },
   "outputs": [],
   "source": [
    "\n",
    "trainData_normalize_1 = images_1.astype('float32') / 255.0\n",
    "trainData_normalize_2 = images_2.astype('float32') / 255.0\n",
    "\n",
    "if(dataAugment):\n",
    "    valiData_normalize = valiData.astype('float32') / 255.0\n",
    "    \n",
    "testImages_normalize_1 = testImages_1.astype('float32') / 255.0\n",
    "testImages_normalize_2 = testImages_2.astype('float32') / 255.0\n"
   ]
  },
  {
   "cell_type": "code",
   "execution_count": null,
   "metadata": {
    "collapsed": true
   },
   "outputs": [],
   "source": []
  },
  {
   "cell_type": "code",
   "execution_count": 172,
   "metadata": {
    "collapsed": true
   },
   "outputs": [],
   "source": [
    "if(dataAugment):\n",
    "    train_datagen = ImageDataGenerator(\n",
    "        zoom_range = 0.15,\n",
    "        shear_range=0.5,\n",
    "        rotation_range = 60)\n",
    "    \n",
    "    valdi_datagen =  ImageDataGenerator(\n",
    "        zoom_range = 0.15,\n",
    "        shear_range=0.5,\n",
    "        rotation_range = 60)\n",
    "    \n",
    "    train_generator = train_datagen.flow(trainData_normalize, trainLabels_hot, batch_size=batch_size)\n",
    "    valdi_generator = valdi_datagen.flow(valiData_normalize, valiLabels_hot, batch_size=batch_size)    "
   ]
  },
  {
   "cell_type": "markdown",
   "metadata": {},
   "source": [
    "# Models"
   ]
  },
  {
   "cell_type": "code",
   "execution_count": 173,
   "metadata": {
    "collapsed": true
   },
   "outputs": [],
   "source": [
    "import math\n",
    "from keras.models import Sequential\n",
    "from keras.layers import Dense, Dropout, Activation, Flatten, Conv2D, MaxPooling2D, ZeroPadding2D\n",
    "#from keras.layers.advanced_activations import LeakyReLU\n",
    "from keras.layers.advanced_activations import PReLU\n",
    "from keras.callbacks import LearningRateScheduler\n",
    "#from keras.layers import BatchNormalization\n"
   ]
  },
  {
   "cell_type": "code",
   "execution_count": 133,
   "metadata": {},
   "outputs": [
    {
     "data": {
      "text/plain": [
       "\"\\nfrom keras.utils import plot_model\\nfrom keras.models import Model\\nfrom keras.layers import Input\\nfrom keras.layers import Dense\\nfrom keras.layers import Flatten\\nfrom keras.layers.convolutional import Conv2D\\nfrom keras.layers.pooling import MaxPooling2D\\nfrom keras.layers.merge import concatenate\\n\\n# input layer\\nvisible = Input(shape=(reSize[0], reSize[1], 3))\\n# first feature extractor\\nconv1 = Conv2D(64, kernel_size=7, activation='relu')(visible)\\npool1 = MaxPooling2D(pool_size=(2, 2))(conv1)\\npool1 = Dropout(0.25)(pool1)\\nconv11 = Conv2D(64, kernel_size=5, activation='relu')(pool1)\\npool11 = MaxPooling2D(pool_size=(2, 2))(conv11)\\npool11 = Dropout(0.25)(pool11)\\nflat1 = Flatten()(pool11)\\n# second feature extractor\\nconv2 = Conv2D(32, kernel_size=3, activation='relu')(visible)\\npool2 = MaxPooling2D(pool_size=(2, 2))(conv2)\\npool2 = Dropout(0.25)(pool2)\\nconv21 = Conv2D(32, kernel_size=3, activation='relu')(pool2)\\npool21 = MaxPooling2D(pool_size=(2, 2))(conv21)\\npool21 = Dropout(0.25)(pool21)\\nflat2 = Flatten()(pool21)\\n# merge feature extractors\\nmerge = concatenate([flat1, flat2])\\n# interpretation layer\\nhidden1 = Dense(1024, activation='relu')(merge)\\nhidden1 = Dropout(0.4)(hidden1)\\n# prediction output\\noutput = Dense(12, activation='sigmoid')(hidden1)\\nmodel = Model(inputs=visible, outputs=output)\\n# summarize layers\\nprint(model.summary())\\n# plot graph\\n#plot_model(model, to_file='shared_input_layer.png')\\n\""
      ]
     },
     "execution_count": 133,
     "metadata": {},
     "output_type": "execute_result"
    }
   ],
   "source": [
    "# Shared Input Layer\n",
    "'''\n",
    "from keras.utils import plot_model\n",
    "from keras.models import Model\n",
    "from keras.layers import Input\n",
    "from keras.layers import Dense\n",
    "from keras.layers import Flatten\n",
    "from keras.layers.convolutional import Conv2D\n",
    "from keras.layers.pooling import MaxPooling2D\n",
    "from keras.layers.merge import concatenate\n",
    "\n",
    "# input layer\n",
    "visible = Input(shape=(reSize[0], reSize[1], 3))\n",
    "# first feature extractor\n",
    "conv1 = Conv2D(64, kernel_size=7, activation='relu')(visible)\n",
    "pool1 = MaxPooling2D(pool_size=(2, 2))(conv1)\n",
    "pool1 = Dropout(0.25)(pool1)\n",
    "conv11 = Conv2D(64, kernel_size=5, activation='relu')(pool1)\n",
    "pool11 = MaxPooling2D(pool_size=(2, 2))(conv11)\n",
    "pool11 = Dropout(0.25)(pool11)\n",
    "flat1 = Flatten()(pool11)\n",
    "# second feature extractor\n",
    "conv2 = Conv2D(32, kernel_size=3, activation='relu')(visible)\n",
    "pool2 = MaxPooling2D(pool_size=(2, 2))(conv2)\n",
    "pool2 = Dropout(0.25)(pool2)\n",
    "conv21 = Conv2D(32, kernel_size=3, activation='relu')(pool2)\n",
    "pool21 = MaxPooling2D(pool_size=(2, 2))(conv21)\n",
    "pool21 = Dropout(0.25)(pool21)\n",
    "flat2 = Flatten()(pool21)\n",
    "# merge feature extractors\n",
    "merge = concatenate([flat1, flat2])\n",
    "# interpretation layer\n",
    "hidden1 = Dense(1024, activation='relu')(merge)\n",
    "hidden1 = Dropout(0.4)(hidden1)\n",
    "# prediction output\n",
    "output = Dense(12, activation='sigmoid')(hidden1)\n",
    "model = Model(inputs=visible, outputs=output)\n",
    "# summarize layers\n",
    "print(model.summary())\n",
    "# plot graph\n",
    "#plot_model(model, to_file='shared_input_layer.png')\n",
    "'''"
   ]
  },
  {
   "cell_type": "code",
   "execution_count": 174,
   "metadata": {},
   "outputs": [
    {
     "name": "stdout",
     "output_type": "stream",
     "text": [
      "____________________________________________________________________________________________________\n",
      "Layer (type)                     Output Shape          Param #     Connected to                     \n",
      "====================================================================================================\n",
      "input_17 (InputLayer)            (None, 112, 112, 3)   0                                            \n",
      "____________________________________________________________________________________________________\n",
      "conv2d_17 (Conv2D)               (None, 108, 108, 64)  4864        input_17[0][0]                   \n",
      "____________________________________________________________________________________________________\n",
      "max_pooling2d_17 (MaxPooling2D)  (None, 54, 54, 64)    0           conv2d_17[0][0]                  \n",
      "____________________________________________________________________________________________________\n",
      "conv2d_18 (Conv2D)               (None, 52, 52, 32)    18464       max_pooling2d_17[0][0]           \n",
      "____________________________________________________________________________________________________\n",
      "max_pooling2d_18 (MaxPooling2D)  (None, 26, 26, 32)    0           conv2d_18[0][0]                  \n",
      "____________________________________________________________________________________________________\n",
      "input_18 (InputLayer)            (None, 19)            0                                            \n",
      "____________________________________________________________________________________________________\n",
      "flatten_9 (Flatten)              (None, 21632)         0           max_pooling2d_18[0][0]           \n",
      "____________________________________________________________________________________________________\n",
      "dense_28 (Dense)                 (None, 1024)          20480       input_18[0][0]                   \n",
      "____________________________________________________________________________________________________\n",
      "concatenate_9 (Concatenate)      (None, 22656)         0           flatten_9[0][0]                  \n",
      "                                                                   dense_28[0][0]                   \n",
      "____________________________________________________________________________________________________\n",
      "dense_29 (Dense)                 (None, 1024)          23200768    concatenate_9[0][0]              \n",
      "____________________________________________________________________________________________________\n",
      "dense_30 (Dense)                 (None, 512)           524800      dense_29[0][0]                   \n",
      "____________________________________________________________________________________________________\n",
      "dense_31 (Dense)                 (None, 12)            6156        dense_30[0][0]                   \n",
      "====================================================================================================\n",
      "Total params: 23,775,532\n",
      "Trainable params: 23,775,532\n",
      "Non-trainable params: 0\n",
      "____________________________________________________________________________________________________\n",
      "None\n"
     ]
    }
   ],
   "source": [
    "from keras.utils import plot_model\n",
    "from keras.models import Model\n",
    "from keras.layers import Input\n",
    "from keras.layers import Dense\n",
    "from keras.layers import Flatten\n",
    "from keras.layers.convolutional import Conv2D\n",
    "from keras.layers.pooling import MaxPooling2D\n",
    "from keras.layers.merge import concatenate\n",
    "\n",
    "# first input model\n",
    "visible1 = Input(shape=(reSize[0], reSize[1], 3))\n",
    "conv11 = Conv2D(64, kernel_size=5, activation='relu')(visible1)\n",
    "pool11 = MaxPooling2D(pool_size=(2, 2))(conv11)\n",
    "#pool11 = Dropout(0.25)(pool11)\n",
    "conv12 = Conv2D(32, kernel_size=3, activation='relu')(pool11)\n",
    "pool12 = MaxPooling2D(pool_size=(2, 2))(conv12)\n",
    "#pool12 = Dropout(0.25)(pool12)\n",
    "flat1 = Flatten()(pool12)\n",
    "# second input model\n",
    "visible2 = Input(shape=(images_2.shape[1],))\n",
    "hidden2_1 = Dense(1024, activation='relu')(visible2)\n",
    "#hidden2_1 = Dropout(0.25)(hidden2_1)\n",
    "#flat2 = Flatten()(visible2)\n",
    "# merge input models\n",
    "merge = concatenate([flat1, hidden2_1])\n",
    "# interpretation model\n",
    "hidden1 = Dense(1024, activation='relu')(merge)\n",
    "hidden2 = Dense(512, activation='relu')(hidden1)\n",
    "output = Dense(12, activation='sigmoid')(hidden2)\n",
    "model = Model(inputs=[visible1, visible2], outputs=output)\n",
    "\n",
    "# summarize layers\n",
    "print(model.summary())"
   ]
  },
  {
   "cell_type": "code",
   "execution_count": 175,
   "metadata": {
    "collapsed": true
   },
   "outputs": [],
   "source": [
    "def step_decay(epoch):\n",
    "    initial_lrate = 0.1\n",
    "    drop = 0.5\n",
    "    epochs_drop = 10.0\n",
    "    lrate = initial_lrate * math.pow(drop, math.floor((1+epoch)/epochs_drop))\n",
    "    return lrate\n",
    "\n",
    "lrate = LearningRateScheduler(step_decay)\n",
    "callbacks_list = [lrate]\n"
   ]
  },
  {
   "cell_type": "code",
   "execution_count": 176,
   "metadata": {},
   "outputs": [
    {
     "name": "stdout",
     "output_type": "stream",
     "text": [
      "batch_size=32\n",
      "trainLabels_hot.shape=(4750, 12)\n",
      "steps_per_epoch=296\n"
     ]
    }
   ],
   "source": [
    "steps_per_epoch=int((len(trainData_normalize_1)*augRatio)/batch_size)\n",
    "#validation_steps = int((len(valiData_normalize_1)*augRatio)/batch_size)\n",
    "\n",
    "print(\"batch_size={}\".format(batch_size))\n",
    "print(\"trainLabels_hot.shape={}\".format(trainLabels_hot.shape))\n",
    "print(\"steps_per_epoch={}\".format(steps_per_epoch))"
   ]
  },
  {
   "cell_type": "code",
   "execution_count": 177,
   "metadata": {
    "scrolled": true
   },
   "outputs": [
    {
     "name": "stdout",
     "output_type": "stream",
     "text": [
      "Train on 3800 samples, validate on 950 samples\n",
      "Epoch 1/50\n",
      "3800/3800 [==============================] - 86s - loss: 0.2431 - acc: 0.9193 - val_loss: 0.5817 - val_acc: 0.8941\n",
      "Epoch 2/50\n",
      "3800/3800 [==============================] - 86s - loss: 0.1712 - acc: 0.9334 - val_loss: 0.6526 - val_acc: 0.8825\n",
      "Epoch 3/50\n",
      "3800/3800 [==============================] - 86s - loss: 0.1399 - acc: 0.9441 - val_loss: 0.7567 - val_acc: 0.8697\n",
      "Epoch 4/50\n",
      "3800/3800 [==============================] - 86s - loss: 0.1147 - acc: 0.9555 - val_loss: 0.7550 - val_acc: 0.8745\n",
      "Epoch 5/50\n",
      "3800/3800 [==============================] - 86s - loss: 0.0830 - acc: 0.9692 - val_loss: 0.7174 - val_acc: 0.8599\n",
      "Epoch 6/50\n",
      "3800/3800 [==============================] - 86s - loss: 0.0671 - acc: 0.9752 - val_loss: 0.8342 - val_acc: 0.8645\n",
      "Epoch 7/50\n",
      "3800/3800 [==============================] - 86s - loss: 0.0467 - acc: 0.9831 - val_loss: 0.7554 - val_acc: 0.8619\n",
      "Epoch 8/50\n",
      "3800/3800 [==============================] - 86s - loss: 0.0341 - acc: 0.9876 - val_loss: 0.9523 - val_acc: 0.8605\n",
      "Epoch 9/50\n",
      "3800/3800 [==============================] - 86s - loss: 0.0233 - acc: 0.9921 - val_loss: 0.9461 - val_acc: 0.8561\n",
      "Epoch 10/50\n",
      "3800/3800 [==============================] - 87s - loss: 0.0098 - acc: 0.9971 - val_loss: 1.0599 - val_acc: 0.8639\n",
      "Epoch 11/50\n",
      "3800/3800 [==============================] - 86s - loss: 0.0037 - acc: 0.9993 - val_loss: 1.1111 - val_acc: 0.8662\n",
      "Epoch 12/50\n",
      "3800/3800 [==============================] - 86s - loss: 0.0021 - acc: 0.9997 - val_loss: 1.1652 - val_acc: 0.8682\n",
      "Epoch 13/50\n",
      "3800/3800 [==============================] - 86s - loss: 0.0012 - acc: 1.0000 - val_loss: 1.2109 - val_acc: 0.8687\n",
      "Epoch 14/50\n",
      "3800/3800 [==============================] - 86s - loss: 8.8685e-04 - acc: 1.0000 - val_loss: 1.2182 - val_acc: 0.8684\n",
      "Epoch 15/50\n",
      "3800/3800 [==============================] - 86s - loss: 7.8045e-04 - acc: 1.0000 - val_loss: 1.2573 - val_acc: 0.8689\n",
      "Epoch 16/50\n",
      "3800/3800 [==============================] - 86s - loss: 7.0653e-04 - acc: 1.0000 - val_loss: 1.2320 - val_acc: 0.8697\n",
      "Epoch 17/50\n",
      "3800/3800 [==============================] - 87s - loss: 7.0728e-04 - acc: 0.9999 - val_loss: 1.3036 - val_acc: 0.8672\n",
      "Epoch 18/50\n",
      "3800/3800 [==============================] - 86s - loss: 6.5228e-04 - acc: 1.0000 - val_loss: 1.3131 - val_acc: 0.8673\n",
      "Epoch 19/50\n",
      "3800/3800 [==============================] - 86s - loss: 6.0653e-04 - acc: 1.0000 - val_loss: 1.3198 - val_acc: 0.8678\n",
      "Epoch 20/50\n",
      "3800/3800 [==============================] - 86s - loss: 5.8530e-04 - acc: 0.9999 - val_loss: 1.3301 - val_acc: 0.8678\n",
      "Epoch 21/50\n",
      "3800/3800 [==============================] - 86s - loss: 5.6380e-04 - acc: 0.9999 - val_loss: 1.3015 - val_acc: 0.8689\n",
      "Epoch 22/50\n",
      "3800/3800 [==============================] - 86s - loss: 5.5107e-04 - acc: 1.0000 - val_loss: 1.3364 - val_acc: 0.8672\n",
      "Epoch 23/50\n",
      "3800/3800 [==============================] - 86s - loss: 5.3697e-04 - acc: 1.0000 - val_loss: 1.2813 - val_acc: 0.8697\n",
      "Epoch 24/50\n",
      "3800/3800 [==============================] - 86s - loss: 5.3547e-04 - acc: 0.9999 - val_loss: 1.3301 - val_acc: 0.8680\n",
      "Epoch 25/50\n",
      "3800/3800 [==============================] - 86s - loss: 5.2183e-04 - acc: 1.0000 - val_loss: 1.3015 - val_acc: 0.8683\n",
      "Epoch 26/50\n",
      "3800/3800 [==============================] - 86s - loss: 5.7059e-04 - acc: 0.9999 - val_loss: 1.3361 - val_acc: 0.8675\n",
      "Epoch 27/50\n",
      "3800/3800 [==============================] - 86s - loss: 5.1933e-04 - acc: 0.9999 - val_loss: 1.3362 - val_acc: 0.8678\n",
      "Epoch 28/50\n",
      "3800/3800 [==============================] - 86s - loss: 5.1662e-04 - acc: 0.9999 - val_loss: 1.3098 - val_acc: 0.8689\n",
      "Epoch 29/50\n",
      "3800/3800 [==============================] - 86s - loss: 5.0958e-04 - acc: 1.0000 - val_loss: 1.3176 - val_acc: 0.8681\n",
      "Epoch 30/50\n",
      "3800/3800 [==============================] - 86s - loss: 4.8171e-04 - acc: 1.0000 - val_loss: 1.3466 - val_acc: 0.8675\n",
      "Epoch 31/50\n",
      "3800/3800 [==============================] - 86s - loss: 4.7828e-04 - acc: 1.0000 - val_loss: 1.3309 - val_acc: 0.8683\n",
      "Epoch 32/50\n",
      "3800/3800 [==============================] - 87s - loss: 4.7024e-04 - acc: 1.0000 - val_loss: 1.3497 - val_acc: 0.8675\n",
      "Epoch 33/50\n",
      "3800/3800 [==============================] - 87s - loss: 4.9148e-04 - acc: 0.9999 - val_loss: 1.3405 - val_acc: 0.8681\n",
      "Epoch 34/50\n",
      "3800/3800 [==============================] - 87s - loss: 4.6108e-04 - acc: 1.0000 - val_loss: 1.3579 - val_acc: 0.8675\n",
      "Epoch 35/50\n",
      "3800/3800 [==============================] - 86s - loss: 4.9099e-04 - acc: 0.9999 - val_loss: 1.3542 - val_acc: 0.8675\n",
      "Epoch 36/50\n",
      "3800/3800 [==============================] - 86s - loss: 4.7268e-04 - acc: 1.0000 - val_loss: 1.3373 - val_acc: 0.8683\n",
      "Epoch 37/50\n",
      "3800/3800 [==============================] - 87s - loss: 4.7744e-04 - acc: 0.9999 - val_loss: 1.3414 - val_acc: 0.8684\n",
      "Epoch 38/50\n",
      "3800/3800 [==============================] - 87s - loss: 4.7334e-04 - acc: 0.9999 - val_loss: 1.3612 - val_acc: 0.8679\n",
      "Epoch 39/50\n",
      "3800/3800 [==============================] - 87s - loss: 4.7141e-04 - acc: 1.0000 - val_loss: 1.3340 - val_acc: 0.8685\n",
      "Epoch 40/50\n",
      "3800/3800 [==============================] - 87s - loss: 4.6590e-04 - acc: 0.9999 - val_loss: 1.3395 - val_acc: 0.8682\n",
      "Epoch 41/50\n",
      "3800/3800 [==============================] - 87s - loss: 4.5891e-04 - acc: 1.0000 - val_loss: 1.3498 - val_acc: 0.8679\n",
      "Epoch 42/50\n",
      "3800/3800 [==============================] - 87s - loss: 4.5988e-04 - acc: 0.9999 - val_loss: 1.3557 - val_acc: 0.8679\n",
      "Epoch 43/50\n",
      "3800/3800 [==============================] - 86s - loss: 4.5942e-04 - acc: 1.0000 - val_loss: 1.3477 - val_acc: 0.8682\n",
      "Epoch 44/50\n",
      "3776/3800 [============================>.] - ETA: 0s - loss: 4.6143e-04 - acc: 1.0000"
     ]
    },
    {
     "ename": "KeyboardInterrupt",
     "evalue": "",
     "output_type": "error",
     "traceback": [
      "\u001b[0;31m---------------------------------------------------------------------------\u001b[0m",
      "\u001b[0;31mKeyboardInterrupt\u001b[0m                         Traceback (most recent call last)",
      "\u001b[0;32m<ipython-input-177-4cb0e93b5579>\u001b[0m in \u001b[0;36m<module>\u001b[0;34m()\u001b[0m\n\u001b[1;32m     20\u001b[0m \u001b[0;32melse\u001b[0m\u001b[0;34m:\u001b[0m\u001b[0;34m\u001b[0m\u001b[0m\n\u001b[1;32m     21\u001b[0m     train_history = model.fit(x=[trainData_normalize_1,trainData_normalize_2], y=trainLabels_hot, validation_split=ratioVal, \n\u001b[0;32m---> 22\u001b[0;31m                               epochs=epochs, batch_size=batch_size, verbose=1, callbacks=callbacks_list)\n\u001b[0m",
      "\u001b[0;32m~/anaconda3/lib/python3.6/site-packages/keras/engine/training.py\u001b[0m in \u001b[0;36mfit\u001b[0;34m(self, x, y, batch_size, epochs, verbose, callbacks, validation_split, validation_data, shuffle, class_weight, sample_weight, initial_epoch, **kwargs)\u001b[0m\n\u001b[1;32m   1505\u001b[0m                               \u001b[0mval_f\u001b[0m\u001b[0;34m=\u001b[0m\u001b[0mval_f\u001b[0m\u001b[0;34m,\u001b[0m \u001b[0mval_ins\u001b[0m\u001b[0;34m=\u001b[0m\u001b[0mval_ins\u001b[0m\u001b[0;34m,\u001b[0m \u001b[0mshuffle\u001b[0m\u001b[0;34m=\u001b[0m\u001b[0mshuffle\u001b[0m\u001b[0;34m,\u001b[0m\u001b[0;34m\u001b[0m\u001b[0m\n\u001b[1;32m   1506\u001b[0m                               \u001b[0mcallback_metrics\u001b[0m\u001b[0;34m=\u001b[0m\u001b[0mcallback_metrics\u001b[0m\u001b[0;34m,\u001b[0m\u001b[0;34m\u001b[0m\u001b[0m\n\u001b[0;32m-> 1507\u001b[0;31m                               initial_epoch=initial_epoch)\n\u001b[0m\u001b[1;32m   1508\u001b[0m \u001b[0;34m\u001b[0m\u001b[0m\n\u001b[1;32m   1509\u001b[0m     \u001b[0;32mdef\u001b[0m \u001b[0mevaluate\u001b[0m\u001b[0;34m(\u001b[0m\u001b[0mself\u001b[0m\u001b[0;34m,\u001b[0m \u001b[0mx\u001b[0m\u001b[0;34m,\u001b[0m \u001b[0my\u001b[0m\u001b[0;34m,\u001b[0m \u001b[0mbatch_size\u001b[0m\u001b[0;34m=\u001b[0m\u001b[0;36m32\u001b[0m\u001b[0;34m,\u001b[0m \u001b[0mverbose\u001b[0m\u001b[0;34m=\u001b[0m\u001b[0;36m1\u001b[0m\u001b[0;34m,\u001b[0m \u001b[0msample_weight\u001b[0m\u001b[0;34m=\u001b[0m\u001b[0;32mNone\u001b[0m\u001b[0;34m)\u001b[0m\u001b[0;34m:\u001b[0m\u001b[0;34m\u001b[0m\u001b[0m\n",
      "\u001b[0;32m~/anaconda3/lib/python3.6/site-packages/keras/engine/training.py\u001b[0m in \u001b[0;36m_fit_loop\u001b[0;34m(self, f, ins, out_labels, batch_size, epochs, verbose, callbacks, val_f, val_ins, shuffle, callback_metrics, initial_epoch)\u001b[0m\n\u001b[1;32m   1168\u001b[0m                         val_outs = self._test_loop(val_f, val_ins,\n\u001b[1;32m   1169\u001b[0m                                                    \u001b[0mbatch_size\u001b[0m\u001b[0;34m=\u001b[0m\u001b[0mbatch_size\u001b[0m\u001b[0;34m,\u001b[0m\u001b[0;34m\u001b[0m\u001b[0m\n\u001b[0;32m-> 1170\u001b[0;31m                                                    verbose=0)\n\u001b[0m\u001b[1;32m   1171\u001b[0m                         \u001b[0;32mif\u001b[0m \u001b[0;32mnot\u001b[0m \u001b[0misinstance\u001b[0m\u001b[0;34m(\u001b[0m\u001b[0mval_outs\u001b[0m\u001b[0;34m,\u001b[0m \u001b[0mlist\u001b[0m\u001b[0;34m)\u001b[0m\u001b[0;34m:\u001b[0m\u001b[0;34m\u001b[0m\u001b[0m\n\u001b[1;32m   1172\u001b[0m                             \u001b[0mval_outs\u001b[0m \u001b[0;34m=\u001b[0m \u001b[0;34m[\u001b[0m\u001b[0mval_outs\u001b[0m\u001b[0;34m]\u001b[0m\u001b[0;34m\u001b[0m\u001b[0m\n",
      "\u001b[0;32m~/anaconda3/lib/python3.6/site-packages/keras/engine/training.py\u001b[0m in \u001b[0;36m_test_loop\u001b[0;34m(self, f, ins, batch_size, verbose)\u001b[0m\n\u001b[1;32m   1270\u001b[0m                 \u001b[0mins_batch\u001b[0m \u001b[0;34m=\u001b[0m \u001b[0m_slice_arrays\u001b[0m\u001b[0;34m(\u001b[0m\u001b[0mins\u001b[0m\u001b[0;34m,\u001b[0m \u001b[0mbatch_ids\u001b[0m\u001b[0;34m)\u001b[0m\u001b[0;34m\u001b[0m\u001b[0m\n\u001b[1;32m   1271\u001b[0m \u001b[0;34m\u001b[0m\u001b[0m\n\u001b[0;32m-> 1272\u001b[0;31m             \u001b[0mbatch_outs\u001b[0m \u001b[0;34m=\u001b[0m \u001b[0mf\u001b[0m\u001b[0;34m(\u001b[0m\u001b[0mins_batch\u001b[0m\u001b[0;34m)\u001b[0m\u001b[0;34m\u001b[0m\u001b[0m\n\u001b[0m\u001b[1;32m   1273\u001b[0m             \u001b[0;32mif\u001b[0m \u001b[0misinstance\u001b[0m\u001b[0;34m(\u001b[0m\u001b[0mbatch_outs\u001b[0m\u001b[0;34m,\u001b[0m \u001b[0mlist\u001b[0m\u001b[0;34m)\u001b[0m\u001b[0;34m:\u001b[0m\u001b[0;34m\u001b[0m\u001b[0m\n\u001b[1;32m   1274\u001b[0m                 \u001b[0;32mif\u001b[0m \u001b[0mbatch_index\u001b[0m \u001b[0;34m==\u001b[0m \u001b[0;36m0\u001b[0m\u001b[0;34m:\u001b[0m\u001b[0;34m\u001b[0m\u001b[0m\n",
      "\u001b[0;32m~/anaconda3/lib/python3.6/site-packages/keras/backend/tensorflow_backend.py\u001b[0m in \u001b[0;36m__call__\u001b[0;34m(self, inputs)\u001b[0m\n\u001b[1;32m   2267\u001b[0m         updated = session.run(self.outputs + [self.updates_op],\n\u001b[1;32m   2268\u001b[0m                               \u001b[0mfeed_dict\u001b[0m\u001b[0;34m=\u001b[0m\u001b[0mfeed_dict\u001b[0m\u001b[0;34m,\u001b[0m\u001b[0;34m\u001b[0m\u001b[0m\n\u001b[0;32m-> 2269\u001b[0;31m                               **self.session_kwargs)\n\u001b[0m\u001b[1;32m   2270\u001b[0m         \u001b[0;32mreturn\u001b[0m \u001b[0mupdated\u001b[0m\u001b[0;34m[\u001b[0m\u001b[0;34m:\u001b[0m\u001b[0mlen\u001b[0m\u001b[0;34m(\u001b[0m\u001b[0mself\u001b[0m\u001b[0;34m.\u001b[0m\u001b[0moutputs\u001b[0m\u001b[0;34m)\u001b[0m\u001b[0;34m]\u001b[0m\u001b[0;34m\u001b[0m\u001b[0m\n\u001b[1;32m   2271\u001b[0m \u001b[0;34m\u001b[0m\u001b[0m\n",
      "\u001b[0;32m~/anaconda3/lib/python3.6/site-packages/tensorflow/python/client/session.py\u001b[0m in \u001b[0;36mrun\u001b[0;34m(self, fetches, feed_dict, options, run_metadata)\u001b[0m\n\u001b[1;32m    893\u001b[0m     \u001b[0;32mtry\u001b[0m\u001b[0;34m:\u001b[0m\u001b[0;34m\u001b[0m\u001b[0m\n\u001b[1;32m    894\u001b[0m       result = self._run(None, fetches, feed_dict, options_ptr,\n\u001b[0;32m--> 895\u001b[0;31m                          run_metadata_ptr)\n\u001b[0m\u001b[1;32m    896\u001b[0m       \u001b[0;32mif\u001b[0m \u001b[0mrun_metadata\u001b[0m\u001b[0;34m:\u001b[0m\u001b[0;34m\u001b[0m\u001b[0m\n\u001b[1;32m    897\u001b[0m         \u001b[0mproto_data\u001b[0m \u001b[0;34m=\u001b[0m \u001b[0mtf_session\u001b[0m\u001b[0;34m.\u001b[0m\u001b[0mTF_GetBuffer\u001b[0m\u001b[0;34m(\u001b[0m\u001b[0mrun_metadata_ptr\u001b[0m\u001b[0;34m)\u001b[0m\u001b[0;34m\u001b[0m\u001b[0m\n",
      "\u001b[0;32m~/anaconda3/lib/python3.6/site-packages/tensorflow/python/client/session.py\u001b[0m in \u001b[0;36m_run\u001b[0;34m(self, handle, fetches, feed_dict, options, run_metadata)\u001b[0m\n\u001b[1;32m   1122\u001b[0m     \u001b[0;32mif\u001b[0m \u001b[0mfinal_fetches\u001b[0m \u001b[0;32mor\u001b[0m \u001b[0mfinal_targets\u001b[0m \u001b[0;32mor\u001b[0m \u001b[0;34m(\u001b[0m\u001b[0mhandle\u001b[0m \u001b[0;32mand\u001b[0m \u001b[0mfeed_dict_tensor\u001b[0m\u001b[0;34m)\u001b[0m\u001b[0;34m:\u001b[0m\u001b[0;34m\u001b[0m\u001b[0m\n\u001b[1;32m   1123\u001b[0m       results = self._do_run(handle, final_targets, final_fetches,\n\u001b[0;32m-> 1124\u001b[0;31m                              feed_dict_tensor, options, run_metadata)\n\u001b[0m\u001b[1;32m   1125\u001b[0m     \u001b[0;32melse\u001b[0m\u001b[0;34m:\u001b[0m\u001b[0;34m\u001b[0m\u001b[0m\n\u001b[1;32m   1126\u001b[0m       \u001b[0mresults\u001b[0m \u001b[0;34m=\u001b[0m \u001b[0;34m[\u001b[0m\u001b[0;34m]\u001b[0m\u001b[0;34m\u001b[0m\u001b[0m\n",
      "\u001b[0;32m~/anaconda3/lib/python3.6/site-packages/tensorflow/python/client/session.py\u001b[0m in \u001b[0;36m_do_run\u001b[0;34m(self, handle, target_list, fetch_list, feed_dict, options, run_metadata)\u001b[0m\n\u001b[1;32m   1319\u001b[0m     \u001b[0;32mif\u001b[0m \u001b[0mhandle\u001b[0m \u001b[0;32mis\u001b[0m \u001b[0;32mNone\u001b[0m\u001b[0;34m:\u001b[0m\u001b[0;34m\u001b[0m\u001b[0m\n\u001b[1;32m   1320\u001b[0m       return self._do_call(_run_fn, self._session, feeds, fetches, targets,\n\u001b[0;32m-> 1321\u001b[0;31m                            options, run_metadata)\n\u001b[0m\u001b[1;32m   1322\u001b[0m     \u001b[0;32melse\u001b[0m\u001b[0;34m:\u001b[0m\u001b[0;34m\u001b[0m\u001b[0m\n\u001b[1;32m   1323\u001b[0m       \u001b[0;32mreturn\u001b[0m \u001b[0mself\u001b[0m\u001b[0;34m.\u001b[0m\u001b[0m_do_call\u001b[0m\u001b[0;34m(\u001b[0m\u001b[0m_prun_fn\u001b[0m\u001b[0;34m,\u001b[0m \u001b[0mself\u001b[0m\u001b[0;34m.\u001b[0m\u001b[0m_session\u001b[0m\u001b[0;34m,\u001b[0m \u001b[0mhandle\u001b[0m\u001b[0;34m,\u001b[0m \u001b[0mfeeds\u001b[0m\u001b[0;34m,\u001b[0m \u001b[0mfetches\u001b[0m\u001b[0;34m)\u001b[0m\u001b[0;34m\u001b[0m\u001b[0m\n",
      "\u001b[0;32m~/anaconda3/lib/python3.6/site-packages/tensorflow/python/client/session.py\u001b[0m in \u001b[0;36m_do_call\u001b[0;34m(self, fn, *args)\u001b[0m\n\u001b[1;32m   1325\u001b[0m   \u001b[0;32mdef\u001b[0m \u001b[0m_do_call\u001b[0m\u001b[0;34m(\u001b[0m\u001b[0mself\u001b[0m\u001b[0;34m,\u001b[0m \u001b[0mfn\u001b[0m\u001b[0;34m,\u001b[0m \u001b[0;34m*\u001b[0m\u001b[0margs\u001b[0m\u001b[0;34m)\u001b[0m\u001b[0;34m:\u001b[0m\u001b[0;34m\u001b[0m\u001b[0m\n\u001b[1;32m   1326\u001b[0m     \u001b[0;32mtry\u001b[0m\u001b[0;34m:\u001b[0m\u001b[0;34m\u001b[0m\u001b[0m\n\u001b[0;32m-> 1327\u001b[0;31m       \u001b[0;32mreturn\u001b[0m \u001b[0mfn\u001b[0m\u001b[0;34m(\u001b[0m\u001b[0;34m*\u001b[0m\u001b[0margs\u001b[0m\u001b[0;34m)\u001b[0m\u001b[0;34m\u001b[0m\u001b[0m\n\u001b[0m\u001b[1;32m   1328\u001b[0m     \u001b[0;32mexcept\u001b[0m \u001b[0merrors\u001b[0m\u001b[0;34m.\u001b[0m\u001b[0mOpError\u001b[0m \u001b[0;32mas\u001b[0m \u001b[0me\u001b[0m\u001b[0;34m:\u001b[0m\u001b[0;34m\u001b[0m\u001b[0m\n\u001b[1;32m   1329\u001b[0m       \u001b[0mmessage\u001b[0m \u001b[0;34m=\u001b[0m \u001b[0mcompat\u001b[0m\u001b[0;34m.\u001b[0m\u001b[0mas_text\u001b[0m\u001b[0;34m(\u001b[0m\u001b[0me\u001b[0m\u001b[0;34m.\u001b[0m\u001b[0mmessage\u001b[0m\u001b[0;34m)\u001b[0m\u001b[0;34m\u001b[0m\u001b[0m\n",
      "\u001b[0;32m~/anaconda3/lib/python3.6/site-packages/tensorflow/python/client/session.py\u001b[0m in \u001b[0;36m_run_fn\u001b[0;34m(session, feed_dict, fetch_list, target_list, options, run_metadata)\u001b[0m\n\u001b[1;32m   1304\u001b[0m           return tf_session.TF_Run(session, options,\n\u001b[1;32m   1305\u001b[0m                                    \u001b[0mfeed_dict\u001b[0m\u001b[0;34m,\u001b[0m \u001b[0mfetch_list\u001b[0m\u001b[0;34m,\u001b[0m \u001b[0mtarget_list\u001b[0m\u001b[0;34m,\u001b[0m\u001b[0;34m\u001b[0m\u001b[0m\n\u001b[0;32m-> 1306\u001b[0;31m                                    status, run_metadata)\n\u001b[0m\u001b[1;32m   1307\u001b[0m \u001b[0;34m\u001b[0m\u001b[0m\n\u001b[1;32m   1308\u001b[0m     \u001b[0;32mdef\u001b[0m \u001b[0m_prun_fn\u001b[0m\u001b[0;34m(\u001b[0m\u001b[0msession\u001b[0m\u001b[0;34m,\u001b[0m \u001b[0mhandle\u001b[0m\u001b[0;34m,\u001b[0m \u001b[0mfeed_dict\u001b[0m\u001b[0;34m,\u001b[0m \u001b[0mfetch_list\u001b[0m\u001b[0;34m)\u001b[0m\u001b[0;34m:\u001b[0m\u001b[0;34m\u001b[0m\u001b[0m\n",
      "\u001b[0;31mKeyboardInterrupt\u001b[0m: "
     ]
    }
   ],
   "source": [
    "#from keras.optimizers import SGD\n",
    "from keras import optimizers\n",
    "#model.compile(loss='binary_crossentropy', optimizer=optimizers.SGD(lr=1e-4, momentum=0.9), metrics=['accuracy'])\n",
    "\n",
    "sgd = optimizers.SGD(lr=1e-4, momentum=0.9, decay=0.0, nesterov=False)\n",
    "model.compile(loss='binary_crossentropy', optimizer=sgd, metrics=['accuracy'])\n",
    "\n",
    "#ADAM = optimizers.Adam(lr=0.001, beta_1=0.9, beta_2=0.999, epsilon=1e-08, decay=0.0)\n",
    "#model.compile(loss='categorical_crossentropy', optimizer=ADAM, metrics=['accuracy'])\n",
    "\n",
    "#model.compile(loss='binary_crossentropy', optimizer=SGD(lr=1e-4, momentum=0.9),\n",
    "#              metrics=['accuracy'])\n",
    "\n",
    "if(dataAugment):\n",
    "    train_history = model.fit_generator(train_generator, steps_per_epoch=steps_per_epoch, epochs=epochs, \n",
    "                    validation_data=valdi_generator, validation_steps=validation_steps, callbacks=callbacks_list)\n",
    "    #train_history = model.fit_generator(train_generator, steps_per_epoch=steps_per_epoch, epochs=epochs, \n",
    "    #                validation_data=valdi_generator, validation_steps=validation_steps)\n",
    "    \n",
    "else:    \n",
    "    train_history = model.fit(x=[trainData_normalize_1,trainData_normalize_2], y=trainLabels_hot, validation_split=ratioVal, \n",
    "                              epochs=epochs, batch_size=batch_size, verbose=1, callbacks=callbacks_list)\n"
   ]
  },
  {
   "cell_type": "code",
   "execution_count": null,
   "metadata": {},
   "outputs": [],
   "source": [
    "show_train_history(train_history, 'acc', 'val_acc')\n",
    "show_train_history(train_history, 'loss', 'val_loss')"
   ]
  },
  {
   "cell_type": "code",
   "execution_count": null,
   "metadata": {},
   "outputs": [],
   "source": [
    "show_train_history(train_history, 'loss', 'val_loss')"
   ]
  },
  {
   "cell_type": "code",
   "execution_count": null,
   "metadata": {},
   "outputs": [],
   "source": [
    "Y_pred = model.predict(testImages_normalize_1)"
   ]
  },
  {
   "cell_type": "code",
   "execution_count": null,
   "metadata": {
    "scrolled": false
   },
   "outputs": [],
   "source": [
    "import pandas as pd \n",
    "inv_dict_labels = {v: k for k, v in dict_labels.items()}\n",
    "\n",
    "results = np.argmax(Y_pred,axis = 1)\n",
    "testFiles = []\n",
    "testPredict = []\n",
    "i=0\n",
    "for filename in os.listdir(testDataset):\n",
    "    #print(\"{}) {}\".format(i, results[i]))\n",
    "    testFiles.append(filename)\n",
    "    testPredict.append(inv_dict_labels[results[i]])\n",
    "    print(\"{},{}\".format(filename, inv_dict_labels[results[i]]))\n",
    "    i += 1\n",
    "\n",
    "submission = pd.DataFrame({\n",
    "        \"file\": testFiles,\n",
    "        \"species\": testPredict\n",
    "    })\n",
    "submission.to_csv('Plant-submission.csv', index=False)"
   ]
  },
  {
   "cell_type": "code",
   "execution_count": null,
   "metadata": {
    "collapsed": true
   },
   "outputs": [],
   "source": []
  },
  {
   "cell_type": "code",
   "execution_count": null,
   "metadata": {
    "collapsed": true
   },
   "outputs": [],
   "source": []
  }
 ],
 "metadata": {
  "kernelspec": {
   "display_name": "Python 3",
   "language": "python",
   "name": "python3"
  },
  "language_info": {
   "codemirror_mode": {
    "name": "ipython",
    "version": 3
   },
   "file_extension": ".py",
   "mimetype": "text/x-python",
   "name": "python",
   "nbconvert_exporter": "python",
   "pygments_lexer": "ipython3",
   "version": "3.6.1"
  }
 },
 "nbformat": 4,
 "nbformat_minor": 2
}
