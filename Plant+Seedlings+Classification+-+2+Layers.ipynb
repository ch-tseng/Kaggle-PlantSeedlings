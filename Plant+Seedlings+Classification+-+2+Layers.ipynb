{
 "cells": [
  {
   "cell_type": "code",
   "execution_count": 3,
   "metadata": {
    "collapsed": true
   },
   "outputs": [],
   "source": [
    "import cv2\n",
    "import os\n",
    "import glob\n",
    "import numpy as np\n",
    "from keras.utils import np_utils\n",
    "from sklearn.model_selection import train_test_split\n",
    "import matplotlib.pyplot as plt\n",
    "%matplotlib inline\n",
    "import matplotlib.image as mpimg\n",
    "from skimage import exposure\n",
    "from keras.utils import np_utils"
   ]
  },
  {
   "cell_type": "code",
   "execution_count": 4,
   "metadata": {
    "collapsed": true
   },
   "outputs": [],
   "source": [
    "dataAugment = True\n",
    "if(dataAugment): from keras.preprocessing.image import ImageDataGenerator\n",
    "    \n",
    "augRatio = 3  #Data augmentation時，要產生幾倍數量的dataset\n",
    "testimg = \"dataset/train/Small-flowered Cranesbill/1f14ed265.png\"\n",
    "ratioVal = 0.2  #要從train dataset取出多少比例的資料作為validate dataset\n",
    "reSize=(224,224)  #訓練前圖片要縮放的尺寸\n",
    "epochs = 100  #要跑幾個世代\n",
    "batch_size = 64   #每批次提取多少數量的圖片進行訓練\n",
    "trainDataset = \"dataset/train\"  #Train dataset的路徑\n",
    "testDataset = \"dataset/test\"   #Test dataset的路徑\n",
    "#Lable的對應, 每個Lable對應到一個數值\n",
    "dict_labels = {\"Black-grass\": 0,\"Charlock\": 1, \"Cleavers\": 2, \"Common Chickweed\": 3, \"Common wheat\": 4, \"Fat Hen\": 5,\n",
    "              \"Loose Silky-bent\": 6, \"Maize\": 7, \"Scentless Mayweed\": 8, \"Shepherds Purse\": 9, \"Small-flowered Cranesbill\": 10, \n",
    "              \"Sugar beet\": 11 }\n",
    "\n",
    "#存放dataset及Label使用\n",
    "images = []\n",
    "labels = []\n",
    "labels_hot = []\n",
    "testImages = []\n",
    "testImagesName = []"
   ]
  },
  {
   "cell_type": "code",
   "execution_count": 5,
   "metadata": {
    "collapsed": true
   },
   "outputs": [],
   "source": [
    "def show_train_history(train_history, train, validation):\n",
    "    plt.plot(train_history.history[train])\n",
    "    plt.plot(train_history.history[validation])\n",
    "    plt.title('Train history')\n",
    "    plt.ylabel(train)\n",
    "    plt.xlabel('Epoch')\n",
    "    legendLoc = 'lower right' if(train=='acc') else 'upper right'\n",
    "    plt.legend(['train', 'validation'], loc=legendLoc)\n",
    "    plt.show()"
   ]
  },
  {
   "cell_type": "code",
   "execution_count": 6,
   "metadata": {
    "collapsed": true
   },
   "outputs": [],
   "source": [
    "def load_image(folder):    \n",
    "    global images, labels, labels_hot, dict_labels\n",
    "    \n",
    "    for filename in os.listdir(folder):\n",
    "        label = os.path.basename(folders)\n",
    "        className = np.asarray( label )        \n",
    "        if label is not None:\n",
    "            labels.append(className)\n",
    "            labels_hot.append(dict_labels[label])\n",
    "            #np.append(labels, className , axis=0)\n",
    "            #np.append(labels_hot, np.array(dict_labels[label]), axis=0)\n",
    "            \n",
    "        img = cv2.imread(os.path.join(folder,filename))\n",
    "        if img is not None:\n",
    "            img = extractPlantsArea(img)\n",
    "            img = cv2.resize(img,reSize,interpolation=cv2.INTER_CUBIC)            \n",
    "            images.append(np.array(img))"
   ]
  },
  {
   "cell_type": "code",
   "execution_count": 7,
   "metadata": {
    "collapsed": true
   },
   "outputs": [],
   "source": [
    "def extractPlantsArea(orgimg):\n",
    "    img = cv2.cvtColor(orgimg, cv2.COLOR_BGR2HSV)\n",
    "    lower_color = np.array([25, 40, 40]) \n",
    "    upper_color = np.array([100, 225, 225]) \n",
    "    plants = cv2.inRange(img, lower_color , upper_color)\n",
    "            \n",
    "    clone = plants.copy()    \n",
    "    _, cnts, _ = cv2.findContours(clone,cv2.RETR_EXTERNAL ,cv2.CHAIN_APPROX_SIMPLE)          \n",
    "    mask = np.zeros(orgimg.shape[:2], dtype=\"uint8\")\n",
    "    \n",
    "    for c in cnts:\n",
    "        cv2.drawContours(mask, [c], -1, 255, -1)\n",
    "\n",
    "    image = cv2.bitwise_and(orgimg, orgimg, mask=mask)\n",
    "    \n",
    "    image_blur = cv2.bilateralFilter(image,3,255,255) \n",
    "    #image_blur = cv2.GaussianBlur(image, (0, 0), 3)\n",
    "    img = cv2.addWeighted(image, 1.5, image_blur, -0.5, 0)\n",
    "    \n",
    "    return img"
   ]
  },
  {
   "cell_type": "code",
   "execution_count": 6,
   "metadata": {},
   "outputs": [
    {
     "data": {
      "text/plain": [
       "' Change the order \\ndef extractPlantsArea(orgimg):\\n    img = cv2.bilateralFilter(orgimg,3,255,255)     \\n    img = cv2.cvtColor(img, cv2.COLOR_BGR2HSV)\\n    lower_color = np.array([25, 40, 40]) \\n    upper_color = np.array([100, 225, 225]) \\n    plants = cv2.inRange(img, lower_color , upper_color)\\n            \\n    clone = plants.copy()    \\n    _, cnts, _ = cv2.findContours(clone,cv2.RETR_EXTERNAL ,cv2.CHAIN_APPROX_SIMPLE)          \\n    mask = np.zeros(orgimg.shape[:2], dtype=\"uint8\")\\n    \\n    for c in cnts:\\n        cv2.drawContours(mask, [c], -1, 255, -1)\\n\\n    image = cv2.bitwise_and(orgimg, orgimg, mask=mask)\\n    return image\\n'"
      ]
     },
     "execution_count": 6,
     "metadata": {},
     "output_type": "execute_result"
    }
   ],
   "source": [
    "''' Change the order \n",
    "def extractPlantsArea(orgimg):\n",
    "    img = cv2.bilateralFilter(orgimg,3,255,255)     \n",
    "    img = cv2.cvtColor(img, cv2.COLOR_BGR2HSV)\n",
    "    lower_color = np.array([25, 40, 40]) \n",
    "    upper_color = np.array([100, 225, 225]) \n",
    "    plants = cv2.inRange(img, lower_color , upper_color)\n",
    "            \n",
    "    clone = plants.copy()    \n",
    "    _, cnts, _ = cv2.findContours(clone,cv2.RETR_EXTERNAL ,cv2.CHAIN_APPROX_SIMPLE)          \n",
    "    mask = np.zeros(orgimg.shape[:2], dtype=\"uint8\")\n",
    "    \n",
    "    for c in cnts:\n",
    "        cv2.drawContours(mask, [c], -1, 255, -1)\n",
    "\n",
    "    image = cv2.bitwise_and(orgimg, orgimg, mask=mask)\n",
    "    return image\n",
    "'''    "
   ]
  },
  {
   "cell_type": "code",
   "execution_count": 8,
   "metadata": {},
   "outputs": [
    {
     "name": "stdout",
     "output_type": "stream",
     "text": [
      "Load images from Train dataset\n",
      "Load dataset/train/Common Chickweed ...\n",
      "Load dataset/train/Scentless Mayweed ...\n",
      "Load dataset/train/Maize ...\n",
      "Load dataset/train/Charlock ...\n",
      "Load dataset/train/Loose Silky-bent ...\n",
      "Load dataset/train/Common wheat ...\n",
      "Load dataset/train/Cleavers ...\n",
      "Load dataset/train/Sugar beet ...\n",
      "Load dataset/train/Small-flowered Cranesbill ...\n",
      "Load dataset/train/Fat Hen ...\n",
      "Load dataset/train/Shepherds Purse ...\n",
      "Load dataset/train/Black-grass ...\n",
      "Load images from Test dataset\n"
     ]
    }
   ],
   "source": [
    "print(\"Load images from Train dataset\")\n",
    "for folders in glob.glob(trainDataset+\"/*\"):\n",
    "    print(\"Load {} ...\".format(folders))\n",
    "    load_image(folders)\n",
    "    \n",
    "print(\"Load images from Test dataset\")    \n",
    "for filename in os.listdir(testDataset):\n",
    "    img = cv2.imread(testDataset+\"/\"+filename)\n",
    "    \n",
    "    if img is not None:\n",
    "        img = extractPlantsArea(img)\n",
    "        img = cv2.resize(img,reSize,interpolation=cv2.INTER_CUBIC)\n",
    "        \n",
    "        testImages.append(np.array(img))\n",
    "        testImagesName.append(filename)"
   ]
  },
  {
   "cell_type": "code",
   "execution_count": 9,
   "metadata": {},
   "outputs": [
    {
     "name": "stdout",
     "output_type": "stream",
     "text": [
      "images.shape=(4750, 224, 224, 3) , labels_hot.shape==(4750,)\n",
      "[3 3 3 ..., 0 0 0]\n"
     ]
    }
   ],
   "source": [
    "images = np.array(images) \n",
    "labels_hot = np.array(labels_hot)\n",
    "testImages = np.array(testImages) \n",
    "print(\"images.shape={} , labels_hot.shape=={}\".format(images.shape, labels_hot.shape))\n",
    "print(labels_hot)"
   ]
  },
  {
   "cell_type": "code",
   "execution_count": 10,
   "metadata": {
    "scrolled": false
   },
   "outputs": [
    {
     "name": "stdout",
     "output_type": "stream",
     "text": [
      "Label:Common Chickweed , ID:3, shape:(224, 224, 3)\n"
     ]
    },
    {
     "data": {
      "image/png": "[encoded data removed]",
      "text/plain": [
       "<matplotlib.figure.Figure at 0x7f8a2bfc16a0>"
      ]
     },
     "metadata": {},
     "output_type": "display_data"
    }
   ],
   "source": [
    "sampleID = 222\n",
    "#print(images[3])\n",
    "plt.imshow(images[sampleID])\n",
    "print(\"Label:{} , ID:{}, shape:{}\".format(labels[sampleID], labels_hot[sampleID], images[sampleID].shape))"
   ]
  },
  {
   "cell_type": "code",
   "execution_count": 11,
   "metadata": {
    "collapsed": true
   },
   "outputs": [],
   "source": [
    "if(dataAugment):\n",
    "    (trainData, valiData, trainLabels, valiLabels) = train_test_split(images, labels_hot, test_size=ratioVal, random_state=42)"
   ]
  },
  {
   "cell_type": "code",
   "execution_count": 12,
   "metadata": {},
   "outputs": [
    {
     "name": "stdout",
     "output_type": "stream",
     "text": [
      "trainData records: 3800\n",
      "trainData.shape=(3800, 224, 224, 3) trainLabels.shape=(3800,)\n",
      "valiData records: 950\n",
      "valiData.shape=(950, 224, 224, 3) valiLabels.shape=(950,)\n"
     ]
    }
   ],
   "source": [
    "print(\"trainData records: {}\".format(len(trainData)))\n",
    "print(\"trainData.shape={} trainLabels.shape={}\".format(trainData.shape, trainLabels.shape))\n",
    "\n",
    "if(dataAugment):\n",
    "    print(\"valiData records: {}\".format(len(valiData)))\n",
    "    print(\"valiData.shape={} valiLabels.shape={}\".format(valiData.shape, valiLabels.shape))"
   ]
  },
  {
   "cell_type": "code",
   "execution_count": 13,
   "metadata": {},
   "outputs": [
    {
     "name": "stdout",
     "output_type": "stream",
     "text": [
      "Train dataset:  (3800, 12)\n",
      "Validate dataset: (950, 12)\n"
     ]
    }
   ],
   "source": [
    "trainLabels_hot = np_utils.to_categorical(trainLabels)\n",
    "print(\"Train dataset: \", trainLabels_hot.shape)\n",
    "\n",
    "if(dataAugment):\n",
    "    valiLabels_hot = np_utils.to_categorical(valiLabels)\n",
    "    print(\"Validate dataset:\", valiLabels_hot.shape)"
   ]
  },
  {
   "cell_type": "code",
   "execution_count": 14,
   "metadata": {
    "collapsed": true
   },
   "outputs": [],
   "source": [
    "\n",
    "trainData_normalize = trainData.astype('float32') / 255.0\n",
    "\n",
    "if(dataAugment):\n",
    "    valiData_normalize = valiData.astype('float32') / 255.0\n",
    "    \n",
    "testImages_normalize = testImages.astype('float32') / 255.0\n"
   ]
  },
  {
   "cell_type": "code",
   "execution_count": null,
   "metadata": {
    "collapsed": true
   },
   "outputs": [],
   "source": []
  },
  {
   "cell_type": "code",
   "execution_count": 15,
   "metadata": {
    "collapsed": true
   },
   "outputs": [],
   "source": [
    "if(dataAugment):\n",
    "    train_datagen = ImageDataGenerator(\n",
    "        zoom_range = 0.15,\n",
    "        shear_range=0.5,\n",
    "        rotation_range = 60)\n",
    "    \n",
    "    valdi_datagen =  ImageDataGenerator(\n",
    "        zoom_range = 0.15,\n",
    "        shear_range=0.5,\n",
    "        rotation_range = 60)\n",
    "    \n",
    "    train_generator = train_datagen.flow(trainData_normalize, trainLabels_hot, batch_size=batch_size)\n",
    "    valdi_generator = valdi_datagen.flow(valiData_normalize, valiLabels_hot, batch_size=batch_size)    "
   ]
  },
  {
   "cell_type": "markdown",
   "metadata": {},
   "source": [
    "# Models"
   ]
  },
  {
   "cell_type": "code",
   "execution_count": 16,
   "metadata": {
    "collapsed": true
   },
   "outputs": [],
   "source": [
    "import math\n",
    "from keras.models import Sequential\n",
    "from keras.layers import Dense, Dropout, Activation, Flatten, Conv2D, MaxPooling2D, ZeroPadding2D\n",
    "#from keras.layers.advanced_activations import LeakyReLU\n",
    "from keras.layers.advanced_activations import PReLU\n",
    "from keras.callbacks import LearningRateScheduler\n",
    "from keras.layers import BatchNormalization"
   ]
  },
  {
   "cell_type": "code",
   "execution_count": 17,
   "metadata": {},
   "outputs": [
    {
     "name": "stdout",
     "output_type": "stream",
     "text": [
      "____________________________________________________________________________________________________\n",
      "Layer (type)                     Output Shape          Param #     Connected to                     \n",
      "====================================================================================================\n",
      "input_1 (InputLayer)             (None, 224, 224, 3)   0                                            \n",
      "____________________________________________________________________________________________________\n",
      "conv2d_1 (Conv2D)                (None, 218, 218, 64)  9472        input_1[0][0]                    \n",
      "____________________________________________________________________________________________________\n",
      "conv2d_3 (Conv2D)                (None, 222, 222, 32)  896         input_1[0][0]                    \n",
      "____________________________________________________________________________________________________\n",
      "max_pooling2d_1 (MaxPooling2D)   (None, 109, 109, 64)  0           conv2d_1[0][0]                   \n",
      "____________________________________________________________________________________________________\n",
      "max_pooling2d_3 (MaxPooling2D)   (None, 111, 111, 32)  0           conv2d_3[0][0]                   \n",
      "____________________________________________________________________________________________________\n",
      "dropout_1 (Dropout)              (None, 109, 109, 64)  0           max_pooling2d_1[0][0]            \n",
      "____________________________________________________________________________________________________\n",
      "dropout_3 (Dropout)              (None, 111, 111, 32)  0           max_pooling2d_3[0][0]            \n",
      "____________________________________________________________________________________________________\n",
      "conv2d_2 (Conv2D)                (None, 105, 105, 64)  102464      dropout_1[0][0]                  \n",
      "____________________________________________________________________________________________________\n",
      "conv2d_4 (Conv2D)                (None, 109, 109, 32)  9248        dropout_3[0][0]                  \n",
      "____________________________________________________________________________________________________\n",
      "max_pooling2d_2 (MaxPooling2D)   (None, 52, 52, 64)    0           conv2d_2[0][0]                   \n",
      "____________________________________________________________________________________________________\n",
      "max_pooling2d_4 (MaxPooling2D)   (None, 54, 54, 32)    0           conv2d_4[0][0]                   \n",
      "____________________________________________________________________________________________________\n",
      "dropout_2 (Dropout)              (None, 52, 52, 64)    0           max_pooling2d_2[0][0]            \n",
      "____________________________________________________________________________________________________\n",
      "dropout_4 (Dropout)              (None, 54, 54, 32)    0           max_pooling2d_4[0][0]            \n",
      "____________________________________________________________________________________________________\n",
      "flatten_1 (Flatten)              (None, 173056)        0           dropout_2[0][0]                  \n",
      "____________________________________________________________________________________________________\n",
      "flatten_2 (Flatten)              (None, 93312)         0           dropout_4[0][0]                  \n",
      "____________________________________________________________________________________________________\n",
      "concatenate_1 (Concatenate)      (None, 266368)        0           flatten_1[0][0]                  \n",
      "                                                                   flatten_2[0][0]                  \n",
      "____________________________________________________________________________________________________\n",
      "dense_1 (Dense)                  (None, 512)           136380928   concatenate_1[0][0]              \n",
      "____________________________________________________________________________________________________\n",
      "dropout_5 (Dropout)              (None, 512)           0           dense_1[0][0]                    \n",
      "____________________________________________________________________________________________________\n",
      "dense_2 (Dense)                  (None, 12)            6156        dropout_5[0][0]                  \n",
      "====================================================================================================\n",
      "Total params: 136,509,164\n",
      "Trainable params: 136,509,164\n",
      "Non-trainable params: 0\n",
      "____________________________________________________________________________________________________\n",
      "None\n"
     ]
    }
   ],
   "source": [
    "# Shared Input Layer\n",
    "from keras.utils import plot_model\n",
    "from keras.models import Model\n",
    "from keras.layers import Input\n",
    "from keras.layers import Dense\n",
    "from keras.layers import Flatten\n",
    "from keras.layers.convolutional import Conv2D\n",
    "from keras.layers.pooling import MaxPooling2D\n",
    "from keras.layers.merge import concatenate\n",
    "\n",
    "# input layer\n",
    "visible = Input(shape=(reSize[0], reSize[1], 3))\n",
    "# first feature extractor\n",
    "conv1 = Conv2D(64, kernel_size=7, activation='relu')(visible)\n",
    "pool1 = MaxPooling2D(pool_size=(2, 2))(conv1)\n",
    "pool1 = Dropout(0.25)(pool1)\n",
    "conv11 = Conv2D(64, kernel_size=5, activation='relu')(pool1)\n",
    "pool11 = MaxPooling2D(pool_size=(2, 2))(conv11)\n",
    "pool11 = Dropout(0.25)(pool11)\n",
    "flat1 = Flatten()(pool11)\n",
    "# second feature extractor\n",
    "conv2 = Conv2D(32, kernel_size=3, activation='relu')(visible)\n",
    "pool2 = MaxPooling2D(pool_size=(2, 2))(conv2)\n",
    "pool2 = Dropout(0.25)(pool2)\n",
    "conv21 = Conv2D(32, kernel_size=3, activation='relu')(pool2)\n",
    "pool21 = MaxPooling2D(pool_size=(2, 2))(conv21)\n",
    "pool21 = Dropout(0.25)(pool21)\n",
    "flat2 = Flatten()(pool21)\n",
    "# merge feature extractors\n",
    "merge = concatenate([flat1, flat2])\n",
    "# interpretation layer\n",
    "hidden1 = Dense(512, activation='relu')(merge)\n",
    "hidden1 = Dropout(0.4)(hidden1)\n",
    "# prediction output\n",
    "output = Dense(12, activation='sigmoid')(hidden1)\n",
    "model = Model(inputs=visible, outputs=output)\n",
    "# summarize layers\n",
    "print(model.summary())\n",
    "# plot graph\n",
    "#plot_model(model, to_file='shared_input_layer.png')\n"
   ]
  },
  {
   "cell_type": "code",
   "execution_count": 18,
   "metadata": {
    "collapsed": true
   },
   "outputs": [],
   "source": [
    "def step_decay(epoch):\n",
    "    initial_lrate = 0.1\n",
    "    drop = 0.5\n",
    "    epochs_drop = 10.0\n",
    "    lrate = initial_lrate * math.pow(drop, math.floor((1+epoch)/epochs_drop))\n",
    "    return lrate\n",
    "\n",
    "lrate = LearningRateScheduler(step_decay)\n",
    "callbacks_list = [lrate]\n"
   ]
  },
  {
   "cell_type": "code",
   "execution_count": 19,
   "metadata": {},
   "outputs": [
    {
     "name": "stdout",
     "output_type": "stream",
     "text": [
      "batch_size=64\n",
      "trainLabels_hot.shape=(3800, 12)\n",
      "steps_per_epoch=178\n"
     ]
    }
   ],
   "source": [
    "steps_per_epoch=int((len(trainData_normalize)*augRatio)/batch_size)\n",
    "validation_steps = int((len(valiData_normalize)*augRatio)/batch_size)\n",
    "\n",
    "print(\"batch_size={}\".format(batch_size))\n",
    "print(\"trainLabels_hot.shape={}\".format(trainLabels_hot.shape))\n",
    "print(\"steps_per_epoch={}\".format(steps_per_epoch))"
   ]
  },
  {
   "cell_type": "code",
   "execution_count": null,
   "metadata": {
    "scrolled": false
   },
   "outputs": [
    {
     "name": "stdout",
     "output_type": "stream",
     "text": [
      "Epoch 1/100\n",
      "178/178 [==============================] - 2694s - loss: 0.2421 - acc: 0.9178 - val_loss: 0.2004 - val_acc: 0.9274\n",
      "Epoch 2/100\n",
      "178/178 [==============================] - 2680s - loss: 0.1654 - acc: 0.9352 - val_loss: 0.1317 - val_acc: 0.9490\n",
      "Epoch 3/100\n",
      "178/178 [==============================] - 2678s - loss: 0.1372 - acc: 0.9464 - val_loss: 0.1305 - val_acc: 0.9483\n",
      "Epoch 4/100\n",
      "178/178 [==============================] - 2678s - loss: 0.1201 - acc: 0.9531 - val_loss: 0.1067 - val_acc: 0.9607\n",
      "Epoch 5/100\n",
      "178/178 [==============================] - 2678s - loss: 0.1066 - acc: 0.9584 - val_loss: 0.1051 - val_acc: 0.9600\n",
      "Epoch 6/100\n",
      "178/178 [==============================] - 2678s - loss: 0.0973 - acc: 0.9628 - val_loss: 0.0863 - val_acc: 0.9659\n",
      "Epoch 7/100\n",
      "178/178 [==============================] - 2676s - loss: 0.0870 - acc: 0.9666 - val_loss: 0.0907 - val_acc: 0.9657\n",
      "Epoch 8/100\n",
      "178/178 [==============================] - 2677s - loss: 0.0854 - acc: 0.9672 - val_loss: 0.0796 - val_acc: 0.9695\n",
      "Epoch 9/100\n",
      "178/178 [==============================] - 2677s - loss: 0.0747 - acc: 0.9711 - val_loss: 0.0728 - val_acc: 0.9721\n",
      "Epoch 10/100\n",
      "178/178 [==============================] - 2676s - loss: 0.0614 - acc: 0.9763 - val_loss: 0.0640 - val_acc: 0.9747\n",
      "Epoch 11/100\n",
      "178/178 [==============================] - 2677s - loss: 0.0583 - acc: 0.9775 - val_loss: 0.0644 - val_acc: 0.9750\n",
      "Epoch 12/100\n",
      "178/178 [==============================] - 2676s - loss: 0.0536 - acc: 0.9790 - val_loss: 0.0626 - val_acc: 0.9756\n",
      "Epoch 13/100\n",
      "178/178 [==============================] - 2686s - loss: 0.0530 - acc: 0.9792 - val_loss: 0.0564 - val_acc: 0.9790\n",
      "Epoch 14/100\n",
      "178/178 [==============================] - 2683s - loss: 0.0512 - acc: 0.9798 - val_loss: 0.0560 - val_acc: 0.9789\n",
      "Epoch 15/100\n",
      "178/178 [==============================] - 2694s - loss: 0.0481 - acc: 0.9810 - val_loss: 0.0555 - val_acc: 0.9788\n",
      "Epoch 16/100\n",
      "178/178 [==============================] - 2704s - loss: 0.0443 - acc: 0.9826 - val_loss: 0.0592 - val_acc: 0.9782\n",
      "Epoch 17/100\n",
      "178/178 [==============================] - 2696s - loss: 0.0446 - acc: 0.9830 - val_loss: 0.0569 - val_acc: 0.9789\n",
      "Epoch 18/100\n",
      "178/178 [==============================] - 2694s - loss: 0.0438 - acc: 0.9828 - val_loss: 0.0609 - val_acc: 0.9778\n",
      "Epoch 19/100\n",
      "178/178 [==============================] - 2691s - loss: 0.0416 - acc: 0.9837 - val_loss: 0.0526 - val_acc: 0.9799\n",
      "Epoch 20/100\n",
      "178/178 [==============================] - 2691s - loss: 0.0359 - acc: 0.9859 - val_loss: 0.0510 - val_acc: 0.9815\n",
      "Epoch 21/100\n",
      "178/178 [==============================] - 2690s - loss: 0.0331 - acc: 0.9871 - val_loss: 0.0515 - val_acc: 0.9811\n",
      "Epoch 22/100\n",
      "178/178 [==============================] - 2690s - loss: 0.0336 - acc: 0.9867 - val_loss: 0.0508 - val_acc: 0.9820\n",
      "Epoch 23/100\n",
      "178/178 [==============================] - 2689s - loss: 0.0329 - acc: 0.9872 - val_loss: 0.0542 - val_acc: 0.9804\n",
      "Epoch 24/100\n",
      "178/178 [==============================] - 2689s - loss: 0.0312 - acc: 0.9878 - val_loss: 0.0531 - val_acc: 0.9814\n",
      "Epoch 25/100\n",
      "178/178 [==============================] - 2690s - loss: 0.0313 - acc: 0.9877 - val_loss: 0.0500 - val_acc: 0.9816\n",
      "Epoch 26/100\n",
      "178/178 [==============================] - 2690s - loss: 0.0300 - acc: 0.9886 - val_loss: 0.0486 - val_acc: 0.9832\n",
      "Epoch 27/100\n",
      "178/178 [==============================] - 2688s - loss: 0.0291 - acc: 0.9885 - val_loss: 0.0500 - val_acc: 0.9807\n",
      "Epoch 28/100\n",
      "178/178 [==============================] - 2688s - loss: 0.0283 - acc: 0.9890 - val_loss: 0.0563 - val_acc: 0.9799\n",
      "Epoch 29/100\n",
      "178/178 [==============================] - 2688s - loss: 0.0275 - acc: 0.9893 - val_loss: 0.0525 - val_acc: 0.9817\n",
      "Epoch 30/100\n",
      "178/178 [==============================] - 2689s - loss: 0.0266 - acc: 0.9897 - val_loss: 0.0494 - val_acc: 0.9820\n",
      "Epoch 31/100\n",
      "178/178 [==============================] - 2697s - loss: 0.0249 - acc: 0.9903 - val_loss: 0.0484 - val_acc: 0.9834\n",
      "Epoch 32/100\n",
      "178/178 [==============================] - 2690s - loss: 0.0250 - acc: 0.9905 - val_loss: 0.0471 - val_acc: 0.9839\n",
      "Epoch 33/100\n",
      "152/178 [========================>.....] - ETA: 364s - loss: 0.0242 - acc: 0.9910"
     ]
    }
   ],
   "source": [
    "#from keras.optimizers import SGD\n",
    "from keras import optimizers\n",
    "model.compile(loss='binary_crossentropy', optimizer=optimizers.SGD(lr=1e-4, momentum=0.9), metrics=['accuracy'])\n",
    "\n",
    "#sgd = SGD(lr=0.0, momentum=0.9, decay=0.0, nesterov=False)\n",
    "#model.compile(loss='binary_crossentropy', optimizer=sgd, metrics=['accuracy'])\n",
    "\n",
    "#ADAM = optimizers.Adam(lr=0.001, beta_1=0.9, beta_2=0.999, epsilon=1e-08, decay=0.0)\n",
    "#model.compile(loss='categorical_crossentropy', optimizer=ADAM, metrics=['accuracy'])\n",
    "\n",
    "#model.compile(loss='binary_crossentropy', optimizer=SGD(lr=1e-4, momentum=0.9),\n",
    "#              metrics=['accuracy'])\n",
    "\n",
    "if(dataAugment):\n",
    "    train_history = model.fit_generator(train_generator, steps_per_epoch=steps_per_epoch, epochs=epochs, \n",
    "                    validation_data=valdi_generator, validation_steps=validation_steps, callbacks=callbacks_list)\n",
    "    #train_history = model.fit_generator(train_generator, steps_per_epoch=steps_per_epoch, epochs=epochs, \n",
    "    #                validation_data=valdi_generator, validation_steps=validation_steps)\n",
    "    \n",
    "else:    \n",
    "    train_history = model.fit(x=trainData_normalize, y=trainLabels_hot, validation_split=ratioVal, \n",
    "                              epochs=epochs, batch_size=batch_size, verbose=1, callbacks=callbacks_list)"
   ]
  },
  {
   "cell_type": "code",
   "execution_count": null,
   "metadata": {
    "collapsed": true
   },
   "outputs": [],
   "source": [
    "show_train_history(train_history, 'acc', 'val_acc')\n",
    "show_train_history(train_history, 'loss', 'val_loss')"
   ]
  },
  {
   "cell_type": "code",
   "execution_count": null,
   "metadata": {
    "collapsed": true
   },
   "outputs": [],
   "source": [
    "show_train_history(train_history, 'loss', 'val_loss')"
   ]
  },
  {
   "cell_type": "code",
   "execution_count": null,
   "metadata": {
    "collapsed": true
   },
   "outputs": [],
   "source": [
    "Y_pred = model.predict(testImages_normalize)"
   ]
  },
  {
   "cell_type": "code",
   "execution_count": null,
   "metadata": {
    "collapsed": true
   },
   "outputs": [],
   "source": [
    "print(model.predict(testImages_normalize[0]))"
   ]
  },
  {
   "cell_type": "code",
   "execution_count": null,
   "metadata": {
    "collapsed": true,
    "scrolled": false
   },
   "outputs": [],
   "source": [
    "import pandas as pd \n",
    "inv_dict_labels = {v: k for k, v in dict_labels.items()}\n",
    "\n",
    "results = np.argmax(Y_pred,axis = 1)\n",
    "testFiles = []\n",
    "testPredict = []\n",
    "i=0\n",
    "for filename in os.listdir(testDataset):\n",
    "    #print(\"{}) {}\".format(i, results[i]))\n",
    "    testFiles.append(filename)\n",
    "    testPredict.append(inv_dict_labels[results[i]])\n",
    "    print(\"{},{}\".format(filename, inv_dict_labels[results[i]]))\n",
    "    i += 1\n",
    "\n",
    "submission = pd.DataFrame({\n",
    "        \"file\": testFiles,\n",
    "        \"species\": testPredict\n",
    "    })\n",
    "submission.to_csv('Plant-submission.csv', index=False)"
   ]
  },
  {
   "cell_type": "code",
   "execution_count": null,
   "metadata": {
    "collapsed": true
   },
   "outputs": [],
   "source": []
  },
  {
   "cell_type": "code",
   "execution_count": null,
   "metadata": {
    "collapsed": true
   },
   "outputs": [],
   "source": []
  }
 ],
 "metadata": {
  "kernelspec": {
   "display_name": "Python 3",
   "language": "python",
   "name": "python3"
  },
  "language_info": {
   "codemirror_mode": {
    "name": "ipython",
    "version": 3
   },
   "file_extension": ".py",
   "mimetype": "text/x-python",
   "name": "python",
   "nbconvert_exporter": "python",
   "pygments_lexer": "ipython3",
   "version": "3.6.1"
  }
 },
 "nbformat": 4,
 "nbformat_minor": 2
}
